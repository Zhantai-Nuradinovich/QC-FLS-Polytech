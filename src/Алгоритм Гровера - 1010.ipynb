{
 "cells": [
  {
   "cell_type": "code",
   "execution_count": 1,
   "metadata": {},
   "outputs": [],
   "source": [
    "\n",
    "import numpy as np\n",
    "import matplotlib.pyplot as plt\n",
    "%matplotlib inline\n",
    "\n",
    "# importing Qiskit\n",
    "from qiskit import BasicAer, IBMQ\n",
    "from qiskit import QuantumCircuit, ClassicalRegister, QuantumRegister, execute\n",
    "from qiskit.compiler import transpile\n",
    "from qiskit.tools.visualization import plot_histogram"
   ]
  },
  {
   "cell_type": "code",
   "execution_count": 3,
   "metadata": {},
   "outputs": [
    {
     "name": "stdout",
     "output_type": "stream",
     "text": [
      "\n",
      "Grovers Algorithm\n",
      "------------------\n",
      "\n",
      "\n",
      "Initialising Circuit...\n",
      "\n",
      "\n",
      "Preparing Oracle circuit....\n",
      "\n"
     ]
    }
   ],
   "source": [
    "\n",
    "\n",
    "print('\\nGrovers Algorithm')\n",
    "print('------------------\\n')\n",
    "\n",
    "from qiskit import QuantumRegister, ClassicalRegister, QuantumCircuit, execute,IBMQ\n",
    "import math        \n",
    "pi = math.pi\n",
    "q = QuantumRegister(4,'q')\n",
    "c = ClassicalRegister(4,'c')\n",
    "qc = QuantumCircuit(q,c)\n",
    "\n",
    "print('\\nInitialising Circuit...\\n')\n",
    "\n",
    "### Initialisation ###\n",
    "\n",
    "qc.h(q[0])\n",
    "qc.h(q[1])\n",
    "qc.h(q[2])\n",
    "qc.h(q[3])\n",
    "\n",
    "print('\\nPreparing Oracle circuit....\\n')"
   ]
  },
  {
   "cell_type": "code",
   "execution_count": 4,
   "metadata": {},
   "outputs": [
    {
     "data": {
      "text/plain": [
       "<qiskit.circuit.instructionset.InstructionSet at 0x27ecabd9c48>"
      ]
     },
     "execution_count": 4,
     "metadata": {},
     "output_type": "execute_result"
    }
   ],
   "source": [
    "### 1010 Oracle ###\n",
    "\n",
    "qc.x(q[0])\n",
    "qc.x(q[2])\n",
    "\n",
    "qc.cu1(pi/4, q[0], q[3])\n",
    "qc.cx(q[0], q[1])\n",
    "qc.cu1(-pi/4, q[1], q[3])\n",
    "qc.cx(q[0], q[1])\n",
    "\n",
    "qc.cu1(pi/4, q[1], q[3])\n",
    "qc.cx(q[1], q[2])\n",
    "\n",
    "qc.cu1(-pi/4, q[2], q[3])\n",
    "qc.cx(q[0], q[2])\n",
    "\n",
    "qc.cu1(pi/4, q[2], q[3])\n",
    "qc.cx(q[1], q[2])\n",
    "\n",
    "qc.cu1(-pi/4, q[2], q[3])\n",
    "\n",
    "qc.cx(q[0], q[2])\n",
    "qc.cu1(pi/4, q[2], q[3])\n",
    "\n",
    "qc.x(q[0])\n",
    "qc.x(q[2])\n"
   ]
  },
  {
   "cell_type": "code",
   "execution_count": 5,
   "metadata": {},
   "outputs": [
    {
     "data": {
      "text/plain": [
       "<qiskit.circuit.instructionset.InstructionSet at 0x27ecabeac48>"
      ]
     },
     "execution_count": 5,
     "metadata": {},
     "output_type": "execute_result"
    }
   ],
   "source": [
    "#### Amplification ####\n",
    "qc.h(q[0])\n",
    "qc.h(q[1])\n",
    "qc.h(q[2])\n",
    "qc.h(q[3])\n",
    "qc.x(q[0])\n",
    "qc.x(q[1])\n",
    "qc.x(q[2])\n",
    "qc.x(q[3])\n",
    "\n",
    "qc.cu1(pi/4, q[0], q[3])\n",
    "qc.cx(q[0], q[1])\n",
    "qc.cu1(-pi/4, q[1], q[3])\n",
    "qc.cx(q[0], q[1])\n",
    "qc.cu1(pi/4, q[1], q[3])\n",
    "qc.cx(q[1], q[2])\n",
    "qc.cu1(-pi/4, q[2], q[3])\n",
    "qc.cx(q[0], q[2])\n",
    "qc.cu1(pi/4, q[2], q[3])\n",
    "qc.cx(q[1], q[2])\n",
    "\n",
    "qc.cu1(-pi/4, q[2], q[3])\n",
    "qc.cx(q[0], q[2])\n",
    "qc.cu1(pi/4, q[2], q[3])\n",
    "\n",
    "qc.x(q[0])\n",
    "qc.x(q[1])\n",
    "qc.x(q[2])\n",
    "qc.x(q[3])\n",
    "qc.h(q[0])\n",
    "qc.h(q[1])\n",
    "qc.h(q[2])\n",
    "qc.h(q[3])"
   ]
  },
  {
   "cell_type": "code",
   "execution_count": 6,
   "metadata": {},
   "outputs": [
    {
     "data": {
      "image/png": "[encoded data removed]",
      "text/plain": [
       "<Figure size 504x360 with 1 Axes>"
      ]
     },
     "execution_count": 6,
     "metadata": {},
     "output_type": "execute_result"
    }
   ],
   "source": [
    "from qiskit.tools.visualization import plot_histogram\n",
    "### Measurment ###\n",
    "qc.barrier(q)\n",
    "qc.measure(q[0], c[0])\n",
    "qc.measure(q[1], c[1])\n",
    "qc.measure(q[2], c[2])\n",
    "qc.measure(q[3], c[3])\n",
    "\n",
    "#backend = provider.get_backend('ibmq_qasm_simulator')\n",
    "#print('\\nExecuting job....\\n')\n",
    "#job = execute(qc, backend, shots=100)\n",
    "\n",
    "#result = job.result()\n",
    "#counts = result.get_counts(qc)\n",
    "#plot_histogram(counts)\n",
    "\n",
    "#print('RESULT: ',counts,'\\n')\n",
    "backend = BasicAer.get_backend('qasm_simulator')\n",
    "job = execute(qc, backend=backend, shots=1000)\n",
    "result = job.result()\n",
    "\n",
    "# Get counts and plot histogram\n",
    "counts = result.get_counts(qc)\n",
    "plot_histogram(counts)"
   ]
  },
  {
   "cell_type": "code",
   "execution_count": 7,
   "metadata": {},
   "outputs": [
    {
     "data": {
      "text/plain": [
       "<AccountProvider for IBMQ(hub='ibm-q', group='open', project='main')>"
      ]
     },
     "execution_count": 7,
     "metadata": {},
     "output_type": "execute_result"
    }
   ],
   "source": [
    "IBMQ.load_account()"
   ]
  },
  {
   "cell_type": "code",
   "execution_count": 9,
   "metadata": {},
   "outputs": [],
   "source": [
    "provider = IBMQ.get_provider('ibm-q')\n",
    "qcomp = provider.get_backend('ibmq_16_melbourne')\n",
    "\n",
    "job = execute(qc, backend=qcomp)\n"
   ]
  },
  {
   "cell_type": "code",
   "execution_count": 10,
   "metadata": {},
   "outputs": [],
   "source": [
    "from qiskit.tools.monitor import job_monitor"
   ]
  },
  {
   "cell_type": "code",
   "execution_count": 12,
   "metadata": {},
   "outputs": [
    {
     "name": "stdout",
     "output_type": "stream",
     "text": [
      "Job Status: job has successfully run\n"
     ]
    }
   ],
   "source": [
    "job_monitor(job)\n",
    "result = job.result()"
   ]
  },
  {
   "cell_type": "code",
   "execution_count": 13,
   "metadata": {},
   "outputs": [
    {
     "data": {
      "image/png": "[encoded data removed]",
      "text/plain": [
       "<Figure size 504x360 with 1 Axes>"
      ]
     },
     "execution_count": 13,
     "metadata": {},
     "output_type": "execute_result"
    }
   ],
   "source": [
    "plot_histogram(result.get_counts(qc))"
   ]
  }
 ],
 "metadata": {
  "kernelspec": {
   "display_name": "Python 3",
   "language": "python",
   "name": "python3"
  },
  "language_info": {
   "codemirror_mode": {
    "name": "ipython",
    "version": 3
   },
   "file_extension": ".py",
   "mimetype": "text/x-python",
   "name": "python",
   "nbconvert_exporter": "python",
   "pygments_lexer": "ipython3",
   "version": "3.7.4"
  }
 },
 "nbformat": 4,
 "nbformat_minor": 2
}
